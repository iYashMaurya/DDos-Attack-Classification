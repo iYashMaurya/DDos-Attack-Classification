{
 "cells": [
  {
   "cell_type": "markdown",
   "id": "77e432f5",
   "metadata": {},
   "source": [
    "## Importing Libraries\n"
   ]
  },
  {
   "cell_type": "code",
   "execution_count": null,
   "id": "3b1ca870-92fa-4065-b7c2-ce309b7757a9",
   "metadata": {},
   "outputs": [],
   "source": [
    "import numpy as np\n",
    "import pandas as pd\n",
    "import matplotlib.pyplot as plt\n",
    "import polars as pl\n",
    "from sklearn.preprocessing import StandardScaler\n",
    "from sklearn.preprocessing import LabelEncoder\n",
    "from sklearn.preprocessing import OneHotEncoder\n",
    "from collections import Counter\n",
    "from sklearn.model_selection import train_test_split\n",
    "import seaborn as sns\n",
    "from sklearn.ensemble import RandomForestClassifier\n",
    "from sklearn.metrics import accuracy_score, f1_score, precision_score, recall_score, roc_curve, auc, confusion_matrix\n",
    "from sklearn.linear_model import LogisticRegression\n",
    "from sklearn.svm import SVC"
   ]
  },
  {
   "cell_type": "markdown",
   "id": "2014f86b",
   "metadata": {},
   "source": [
    "## Reading Dataset\n"
   ]
  },
  {
   "cell_type": "code",
   "execution_count": null,
   "id": "8af2a899-c9c8-4580-a93d-6e182add9529",
   "metadata": {},
   "outputs": [],
   "source": [
    "df= pl.read_csv('DDos.csv',ignore_errors=True)"
   ]
  },
  {
   "cell_type": "markdown",
   "id": "382b1cd1",
   "metadata": {},
   "source": [
    "## Performing EDA"
   ]
  },
  {
   "cell_type": "code",
   "execution_count": null,
   "id": "92dd090d-4f4c-433b-b0e5-d25808de3fc1",
   "metadata": {},
   "outputs": [
    {
     "data": {
      "text/html": [
       "<div><style>\n",
       ".dataframe > thead > tr,\n",
       ".dataframe > tbody > tr {\n",
       "  text-align: right;\n",
       "  white-space: pre-wrap;\n",
       "}\n",
       "</style>\n",
       "<small>shape: (5, 79)</small><table border=\"1\" class=\"dataframe\"><thead><tr><th> Destination Port</th><th> Flow Duration</th><th> Total Fwd Packets</th><th> Total Backward Packets</th><th>Total Length of Fwd Packets</th><th> Total Length of Bwd Packets</th><th> Fwd Packet Length Max</th><th> Fwd Packet Length Min</th><th> Fwd Packet Length Mean</th><th> Fwd Packet Length Std</th><th>Bwd Packet Length Max</th><th> Bwd Packet Length Min</th><th> Bwd Packet Length Mean</th><th> Bwd Packet Length Std</th><th>Flow Bytes/s</th><th> Flow Packets/s</th><th> Flow IAT Mean</th><th> Flow IAT Std</th><th> Flow IAT Max</th><th> Flow IAT Min</th><th>Fwd IAT Total</th><th> Fwd IAT Mean</th><th> Fwd IAT Std</th><th> Fwd IAT Max</th><th> Fwd IAT Min</th><th>Bwd IAT Total</th><th> Bwd IAT Mean</th><th> Bwd IAT Std</th><th> Bwd IAT Max</th><th> Bwd IAT Min</th><th>Fwd PSH Flags</th><th> Bwd PSH Flags</th><th> Fwd URG Flags</th><th> Bwd URG Flags</th><th> Fwd Header Length</th><th> Bwd Header Length</th><th>Fwd Packets/s</th><th>&hellip;</th><th> Packet Length Variance</th><th>FIN Flag Count</th><th> SYN Flag Count</th><th> RST Flag Count</th><th> PSH Flag Count</th><th> ACK Flag Count</th><th> URG Flag Count</th><th> CWE Flag Count</th><th> ECE Flag Count</th><th> Down/Up Ratio</th><th> Average Packet Size</th><th> Avg Fwd Segment Size</th><th> Avg Bwd Segment Size</th><th> Fwd Header Length_duplicated_0</th><th>Fwd Avg Bytes/Bulk</th><th> Fwd Avg Packets/Bulk</th><th> Fwd Avg Bulk Rate</th><th> Bwd Avg Bytes/Bulk</th><th> Bwd Avg Packets/Bulk</th><th>Bwd Avg Bulk Rate</th><th>Subflow Fwd Packets</th><th> Subflow Fwd Bytes</th><th> Subflow Bwd Packets</th><th> Subflow Bwd Bytes</th><th>Init_Win_bytes_forward</th><th> Init_Win_bytes_backward</th><th> act_data_pkt_fwd</th><th> min_seg_size_forward</th><th>Active Mean</th><th> Active Std</th><th> Active Max</th><th> Active Min</th><th>Idle Mean</th><th> Idle Std</th><th> Idle Max</th><th> Idle Min</th><th> Label</th></tr><tr><td>i64</td><td>i64</td><td>i64</td><td>i64</td><td>i64</td><td>i64</td><td>i64</td><td>i64</td><td>f64</td><td>f64</td><td>i64</td><td>i64</td><td>f64</td><td>f64</td><td>f64</td><td>f64</td><td>f64</td><td>f64</td><td>i64</td><td>i64</td><td>i64</td><td>f64</td><td>f64</td><td>i64</td><td>i64</td><td>i64</td><td>f64</td><td>f64</td><td>i64</td><td>i64</td><td>i64</td><td>i64</td><td>i64</td><td>i64</td><td>i64</td><td>i64</td><td>f64</td><td>&hellip;</td><td>f64</td><td>i64</td><td>i64</td><td>i64</td><td>i64</td><td>i64</td><td>i64</td><td>i64</td><td>i64</td><td>i64</td><td>f64</td><td>f64</td><td>f64</td><td>i64</td><td>i64</td><td>i64</td><td>i64</td><td>i64</td><td>i64</td><td>i64</td><td>i64</td><td>i64</td><td>i64</td><td>i64</td><td>i64</td><td>i64</td><td>i64</td><td>i64</td><td>i64</td><td>f64</td><td>i64</td><td>i64</td><td>i64</td><td>i64</td><td>i64</td><td>i64</td><td>str</td></tr></thead><tbody><tr><td>54865</td><td>3</td><td>2</td><td>0</td><td>12</td><td>0</td><td>6</td><td>6</td><td>6.0</td><td>0.0</td><td>0</td><td>0</td><td>0.0</td><td>0.0</td><td>4e6</td><td>666666.6667</td><td>3.0</td><td>0.0</td><td>3</td><td>3</td><td>3</td><td>3.0</td><td>0.0</td><td>3</td><td>3</td><td>0</td><td>0.0</td><td>0.0</td><td>0</td><td>0</td><td>0</td><td>0</td><td>0</td><td>0</td><td>40</td><td>0</td><td>666666.6667</td><td>&hellip;</td><td>0.0</td><td>0</td><td>0</td><td>0</td><td>0</td><td>1</td><td>0</td><td>0</td><td>0</td><td>0</td><td>9.0</td><td>6.0</td><td>0.0</td><td>40</td><td>0</td><td>0</td><td>0</td><td>0</td><td>0</td><td>0</td><td>2</td><td>12</td><td>0</td><td>0</td><td>33</td><td>-1</td><td>1</td><td>20</td><td>0</td><td>0.0</td><td>0</td><td>0</td><td>0</td><td>0</td><td>0</td><td>0</td><td>&quot;BENIGN&quot;</td></tr><tr><td>55054</td><td>109</td><td>1</td><td>1</td><td>6</td><td>6</td><td>6</td><td>6</td><td>6.0</td><td>0.0</td><td>6</td><td>6</td><td>6.0</td><td>0.0</td><td>110091.7431</td><td>18348.62385</td><td>109.0</td><td>0.0</td><td>109</td><td>109</td><td>0</td><td>0.0</td><td>0.0</td><td>0</td><td>0</td><td>0</td><td>0.0</td><td>0.0</td><td>0</td><td>0</td><td>0</td><td>0</td><td>0</td><td>0</td><td>20</td><td>20</td><td>9174.311927</td><td>&hellip;</td><td>0.0</td><td>0</td><td>0</td><td>0</td><td>0</td><td>1</td><td>1</td><td>0</td><td>0</td><td>1</td><td>9.0</td><td>6.0</td><td>6.0</td><td>20</td><td>0</td><td>0</td><td>0</td><td>0</td><td>0</td><td>0</td><td>1</td><td>6</td><td>1</td><td>6</td><td>29</td><td>256</td><td>0</td><td>20</td><td>0</td><td>0.0</td><td>0</td><td>0</td><td>0</td><td>0</td><td>0</td><td>0</td><td>&quot;BENIGN&quot;</td></tr><tr><td>55055</td><td>52</td><td>1</td><td>1</td><td>6</td><td>6</td><td>6</td><td>6</td><td>6.0</td><td>0.0</td><td>6</td><td>6</td><td>6.0</td><td>0.0</td><td>230769.2308</td><td>38461.53846</td><td>52.0</td><td>0.0</td><td>52</td><td>52</td><td>0</td><td>0.0</td><td>0.0</td><td>0</td><td>0</td><td>0</td><td>0.0</td><td>0.0</td><td>0</td><td>0</td><td>0</td><td>0</td><td>0</td><td>0</td><td>20</td><td>20</td><td>19230.76923</td><td>&hellip;</td><td>0.0</td><td>0</td><td>0</td><td>0</td><td>0</td><td>1</td><td>1</td><td>0</td><td>0</td><td>1</td><td>9.0</td><td>6.0</td><td>6.0</td><td>20</td><td>0</td><td>0</td><td>0</td><td>0</td><td>0</td><td>0</td><td>1</td><td>6</td><td>1</td><td>6</td><td>29</td><td>256</td><td>0</td><td>20</td><td>0</td><td>0.0</td><td>0</td><td>0</td><td>0</td><td>0</td><td>0</td><td>0</td><td>&quot;BENIGN&quot;</td></tr><tr><td>46236</td><td>34</td><td>1</td><td>1</td><td>6</td><td>6</td><td>6</td><td>6</td><td>6.0</td><td>0.0</td><td>6</td><td>6</td><td>6.0</td><td>0.0</td><td>352941.1765</td><td>58823.52941</td><td>34.0</td><td>0.0</td><td>34</td><td>34</td><td>0</td><td>0.0</td><td>0.0</td><td>0</td><td>0</td><td>0</td><td>0.0</td><td>0.0</td><td>0</td><td>0</td><td>0</td><td>0</td><td>0</td><td>0</td><td>20</td><td>20</td><td>29411.76471</td><td>&hellip;</td><td>0.0</td><td>0</td><td>0</td><td>0</td><td>0</td><td>1</td><td>1</td><td>0</td><td>0</td><td>1</td><td>9.0</td><td>6.0</td><td>6.0</td><td>20</td><td>0</td><td>0</td><td>0</td><td>0</td><td>0</td><td>0</td><td>1</td><td>6</td><td>1</td><td>6</td><td>31</td><td>329</td><td>0</td><td>20</td><td>0</td><td>0.0</td><td>0</td><td>0</td><td>0</td><td>0</td><td>0</td><td>0</td><td>&quot;BENIGN&quot;</td></tr><tr><td>54863</td><td>3</td><td>2</td><td>0</td><td>12</td><td>0</td><td>6</td><td>6</td><td>6.0</td><td>0.0</td><td>0</td><td>0</td><td>0.0</td><td>0.0</td><td>4e6</td><td>666666.6667</td><td>3.0</td><td>0.0</td><td>3</td><td>3</td><td>3</td><td>3.0</td><td>0.0</td><td>3</td><td>3</td><td>0</td><td>0.0</td><td>0.0</td><td>0</td><td>0</td><td>0</td><td>0</td><td>0</td><td>0</td><td>40</td><td>0</td><td>666666.6667</td><td>&hellip;</td><td>0.0</td><td>0</td><td>0</td><td>0</td><td>0</td><td>1</td><td>0</td><td>0</td><td>0</td><td>0</td><td>9.0</td><td>6.0</td><td>0.0</td><td>40</td><td>0</td><td>0</td><td>0</td><td>0</td><td>0</td><td>0</td><td>2</td><td>12</td><td>0</td><td>0</td><td>32</td><td>-1</td><td>1</td><td>20</td><td>0</td><td>0.0</td><td>0</td><td>0</td><td>0</td><td>0</td><td>0</td><td>0</td><td>&quot;BENIGN&quot;</td></tr></tbody></table></div>"
      ],
      "text/plain": [
       "shape: (5, 79)\n",
       "┌────────────┬────────────┬───────────┬───────────┬───┬───────────┬───────────┬───────────┬────────┐\n",
       "│ Destinatio ┆ Flow       ┆ Total Fwd ┆ Total     ┆ … ┆  Idle Std ┆  Idle Max ┆  Idle Min ┆  Label │\n",
       "│ n Port     ┆ Duration   ┆ Packets   ┆ Backward  ┆   ┆ ---       ┆ ---       ┆ ---       ┆ ---    │\n",
       "│ ---        ┆ ---        ┆ ---       ┆ Packets   ┆   ┆ i64       ┆ i64       ┆ i64       ┆ str    │\n",
       "│ i64        ┆ i64        ┆ i64       ┆ ---       ┆   ┆           ┆           ┆           ┆        │\n",
       "│            ┆            ┆           ┆ i64       ┆   ┆           ┆           ┆           ┆        │\n",
       "╞════════════╪════════════╪═══════════╪═══════════╪═══╪═══════════╪═══════════╪═══════════╪════════╡\n",
       "│ 54865      ┆ 3          ┆ 2         ┆ 0         ┆ … ┆ 0         ┆ 0         ┆ 0         ┆ BENIGN │\n",
       "│ 55054      ┆ 109        ┆ 1         ┆ 1         ┆ … ┆ 0         ┆ 0         ┆ 0         ┆ BENIGN │\n",
       "│ 55055      ┆ 52         ┆ 1         ┆ 1         ┆ … ┆ 0         ┆ 0         ┆ 0         ┆ BENIGN │\n",
       "│ 46236      ┆ 34         ┆ 1         ┆ 1         ┆ … ┆ 0         ┆ 0         ┆ 0         ┆ BENIGN │\n",
       "│ 54863      ┆ 3          ┆ 2         ┆ 0         ┆ … ┆ 0         ┆ 0         ┆ 0         ┆ BENIGN │\n",
       "└────────────┴────────────┴───────────┴───────────┴───┴───────────┴───────────┴───────────┴────────┘"
      ]
     },
     "execution_count": 3,
     "metadata": {},
     "output_type": "execute_result"
    }
   ],
   "source": [
    "df.head()"
   ]
  },
  {
   "cell_type": "markdown",
   "id": "5015dd15",
   "metadata": {},
   "source": [
    "* Converting it from polar to pandas"
   ]
  },
  {
   "cell_type": "code",
   "execution_count": null,
   "id": "0e145600-f8ef-4f82-afa9-bc6dc5e27a71",
   "metadata": {},
   "outputs": [],
   "source": [
    "df= df.to_pandas()"
   ]
  },
  {
   "cell_type": "code",
   "execution_count": null,
   "id": "681e052e-bb4b-4fd1-b7af-0fe0f5c2386f",
   "metadata": {},
   "outputs": [
    {
     "name": "stdout",
     "output_type": "stream",
     "text": [
      "<class 'pandas.core.frame.DataFrame'>\n",
      "RangeIndex: 66237 entries, 0 to 66236\n",
      "Data columns (total 79 columns):\n",
      " #   Column                           Non-Null Count  Dtype  \n",
      "---  ------                           --------------  -----  \n",
      " 0    Destination Port                66237 non-null  int64  \n",
      " 1    Flow Duration                   66237 non-null  int64  \n",
      " 2    Total Fwd Packets               66237 non-null  int64  \n",
      " 3    Total Backward Packets          66237 non-null  int64  \n",
      " 4   Total Length of Fwd Packets      66237 non-null  int64  \n",
      " 5    Total Length of Bwd Packets     66237 non-null  int64  \n",
      " 6    Fwd Packet Length Max           66237 non-null  int64  \n",
      " 7    Fwd Packet Length Min           66237 non-null  int64  \n",
      " 8    Fwd Packet Length Mean          66237 non-null  float64\n",
      " 9    Fwd Packet Length Std           66237 non-null  float64\n",
      " 10  Bwd Packet Length Max            66237 non-null  int64  \n",
      " 11   Bwd Packet Length Min           66237 non-null  int64  \n",
      " 12   Bwd Packet Length Mean          66237 non-null  float64\n",
      " 13   Bwd Packet Length Std           66237 non-null  float64\n",
      " 14  Flow Bytes/s                     66237 non-null  float64\n",
      " 15   Flow Packets/s                  66237 non-null  float64\n",
      " 16   Flow IAT Mean                   66237 non-null  float64\n",
      " 17   Flow IAT Std                    66237 non-null  float64\n",
      " 18   Flow IAT Max                    66237 non-null  int64  \n",
      " 19   Flow IAT Min                    66237 non-null  int64  \n",
      " 20  Fwd IAT Total                    66237 non-null  int64  \n",
      " 21   Fwd IAT Mean                    66237 non-null  float64\n",
      " 22   Fwd IAT Std                     66237 non-null  float64\n",
      " 23   Fwd IAT Max                     66237 non-null  int64  \n",
      " 24   Fwd IAT Min                     66237 non-null  int64  \n",
      " 25  Bwd IAT Total                    66237 non-null  int64  \n",
      " 26   Bwd IAT Mean                    66237 non-null  float64\n",
      " 27   Bwd IAT Std                     66237 non-null  float64\n",
      " 28   Bwd IAT Max                     66237 non-null  int64  \n",
      " 29   Bwd IAT Min                     66237 non-null  int64  \n",
      " 30  Fwd PSH Flags                    66237 non-null  int64  \n",
      " 31   Bwd PSH Flags                   66237 non-null  int64  \n",
      " 32   Fwd URG Flags                   66236 non-null  float64\n",
      " 33   Bwd URG Flags                   66236 non-null  float64\n",
      " 34   Fwd Header Length               66236 non-null  float64\n",
      " 35   Bwd Header Length               66236 non-null  float64\n",
      " 36  Fwd Packets/s                    66236 non-null  float64\n",
      " 37   Bwd Packets/s                   66236 non-null  float64\n",
      " 38   Min Packet Length               66236 non-null  float64\n",
      " 39   Max Packet Length               66236 non-null  float64\n",
      " 40   Packet Length Mean              66236 non-null  float64\n",
      " 41   Packet Length Std               66236 non-null  float64\n",
      " 42   Packet Length Variance          66236 non-null  float64\n",
      " 43  FIN Flag Count                   66236 non-null  float64\n",
      " 44   SYN Flag Count                  66236 non-null  float64\n",
      " 45   RST Flag Count                  66236 non-null  float64\n",
      " 46   PSH Flag Count                  66236 non-null  float64\n",
      " 47   ACK Flag Count                  66236 non-null  float64\n",
      " 48   URG Flag Count                  66236 non-null  float64\n",
      " 49   CWE Flag Count                  66236 non-null  float64\n",
      " 50   ECE Flag Count                  66236 non-null  float64\n",
      " 51   Down/Up Ratio                   66236 non-null  float64\n",
      " 52   Average Packet Size             66236 non-null  float64\n",
      " 53   Avg Fwd Segment Size            66236 non-null  float64\n",
      " 54   Avg Bwd Segment Size            66236 non-null  float64\n",
      " 55   Fwd Header Length_duplicated_0  66236 non-null  float64\n",
      " 56  Fwd Avg Bytes/Bulk               66236 non-null  float64\n",
      " 57   Fwd Avg Packets/Bulk            66236 non-null  float64\n",
      " 58   Fwd Avg Bulk Rate               66236 non-null  float64\n",
      " 59   Bwd Avg Bytes/Bulk              66236 non-null  float64\n",
      " 60   Bwd Avg Packets/Bulk            66236 non-null  float64\n",
      " 61  Bwd Avg Bulk Rate                66236 non-null  float64\n",
      " 62  Subflow Fwd Packets              66236 non-null  float64\n",
      " 63   Subflow Fwd Bytes               66236 non-null  float64\n",
      " 64   Subflow Bwd Packets             66236 non-null  float64\n",
      " 65   Subflow Bwd Bytes               66236 non-null  float64\n",
      " 66  Init_Win_bytes_forward           66236 non-null  float64\n",
      " 67   Init_Win_bytes_backward         66236 non-null  float64\n",
      " 68   act_data_pkt_fwd                66236 non-null  float64\n",
      " 69   min_seg_size_forward            66236 non-null  float64\n",
      " 70  Active Mean                      64467 non-null  float64\n",
      " 71   Active Std                      66236 non-null  float64\n",
      " 72   Active Max                      66236 non-null  float64\n",
      " 73   Active Min                      66236 non-null  float64\n",
      " 74  Idle Mean                        65460 non-null  float64\n",
      " 75   Idle Std                        63982 non-null  float64\n",
      " 76   Idle Max                        66236 non-null  float64\n",
      " 77   Idle Min                        66236 non-null  float64\n",
      " 78   Label                           66236 non-null  object \n",
      "dtypes: float64(58), int64(20), object(1)\n",
      "memory usage: 39.9+ MB\n"
     ]
    }
   ],
   "source": [
    "df.info()"
   ]
  },
  {
   "cell_type": "markdown",
   "id": "43de9044",
   "metadata": {},
   "source": [
    "* Checking Number of rows"
   ]
  },
  {
   "cell_type": "code",
   "execution_count": null,
   "id": "d70b4b04-9e4a-467d-a0eb-eac0410d540d",
   "metadata": {},
   "outputs": [
    {
     "data": {
      "text/plain": [
       "66237"
      ]
     },
     "execution_count": 6,
     "metadata": {},
     "output_type": "execute_result"
    }
   ],
   "source": [
    "df.shape[0]"
   ]
  },
  {
   "cell_type": "markdown",
   "id": "abc2b236",
   "metadata": {},
   "source": [
    "* Checking Number of columns"
   ]
  },
  {
   "cell_type": "code",
   "execution_count": null,
   "id": "665c82ea-618b-4245-9b4b-5442a18492b0",
   "metadata": {},
   "outputs": [
    {
     "data": {
      "text/plain": [
       "79"
      ]
     },
     "execution_count": 7,
     "metadata": {},
     "output_type": "execute_result"
    }
   ],
   "source": [
    "df.shape[1]"
   ]
  },
  {
   "cell_type": "code",
   "execution_count": null,
   "id": "ceac288f-62fb-4b53-a254-b1acc409729b",
   "metadata": {},
   "outputs": [
    {
     "data": {
      "text/plain": [
       "Index([' Destination Port', ' Flow Duration', ' Total Fwd Packets',\n",
       "       ' Total Backward Packets', 'Total Length of Fwd Packets',\n",
       "       ' Total Length of Bwd Packets', ' Fwd Packet Length Max',\n",
       "       ' Fwd Packet Length Min', ' Fwd Packet Length Mean',\n",
       "       ' Fwd Packet Length Std', 'Bwd Packet Length Max',\n",
       "       ' Bwd Packet Length Min', ' Bwd Packet Length Mean',\n",
       "       ' Bwd Packet Length Std', 'Flow Bytes/s', ' Flow Packets/s',\n",
       "       ' Flow IAT Mean', ' Flow IAT Std', ' Flow IAT Max', ' Flow IAT Min',\n",
       "       'Fwd IAT Total', ' Fwd IAT Mean', ' Fwd IAT Std', ' Fwd IAT Max',\n",
       "       ' Fwd IAT Min', 'Bwd IAT Total', ' Bwd IAT Mean', ' Bwd IAT Std',\n",
       "       ' Bwd IAT Max', ' Bwd IAT Min', 'Fwd PSH Flags', ' Bwd PSH Flags',\n",
       "       ' Fwd URG Flags', ' Bwd URG Flags', ' Fwd Header Length',\n",
       "       ' Bwd Header Length', 'Fwd Packets/s', ' Bwd Packets/s',\n",
       "       ' Min Packet Length', ' Max Packet Length', ' Packet Length Mean',\n",
       "       ' Packet Length Std', ' Packet Length Variance', 'FIN Flag Count',\n",
       "       ' SYN Flag Count', ' RST Flag Count', ' PSH Flag Count',\n",
       "       ' ACK Flag Count', ' URG Flag Count', ' CWE Flag Count',\n",
       "       ' ECE Flag Count', ' Down/Up Ratio', ' Average Packet Size',\n",
       "       ' Avg Fwd Segment Size', ' Avg Bwd Segment Size',\n",
       "       ' Fwd Header Length_duplicated_0', 'Fwd Avg Bytes/Bulk',\n",
       "       ' Fwd Avg Packets/Bulk', ' Fwd Avg Bulk Rate', ' Bwd Avg Bytes/Bulk',\n",
       "       ' Bwd Avg Packets/Bulk', 'Bwd Avg Bulk Rate', 'Subflow Fwd Packets',\n",
       "       ' Subflow Fwd Bytes', ' Subflow Bwd Packets', ' Subflow Bwd Bytes',\n",
       "       'Init_Win_bytes_forward', ' Init_Win_bytes_backward',\n",
       "       ' act_data_pkt_fwd', ' min_seg_size_forward', 'Active Mean',\n",
       "       ' Active Std', ' Active Max', ' Active Min', 'Idle Mean', ' Idle Std',\n",
       "       ' Idle Max', ' Idle Min', ' Label'],\n",
       "      dtype='object')"
      ]
     },
     "execution_count": 8,
     "metadata": {},
     "output_type": "execute_result"
    }
   ],
   "source": [
    "df.columns"
   ]
  },
  {
   "cell_type": "markdown",
   "id": "516adde3",
   "metadata": {},
   "source": [
    "* Removing all the extra spaces"
   ]
  },
  {
   "cell_type": "code",
   "execution_count": null,
   "id": "cf98735f-d17a-4a47-b5b3-9854ef6eb670",
   "metadata": {},
   "outputs": [],
   "source": [
    "df.columns= df.columns.str.strip()"
   ]
  },
  {
   "cell_type": "code",
   "execution_count": null,
   "id": "957d771f-eab3-46d3-b3ff-4b0f6ee79e98",
   "metadata": {},
   "outputs": [
    {
     "data": {
      "text/plain": [
       "Index(['Destination Port', 'Flow Duration', 'Total Fwd Packets',\n",
       "       'Total Backward Packets', 'Total Length of Fwd Packets',\n",
       "       'Total Length of Bwd Packets', 'Fwd Packet Length Max',\n",
       "       'Fwd Packet Length Min', 'Fwd Packet Length Mean',\n",
       "       'Fwd Packet Length Std', 'Bwd Packet Length Max',\n",
       "       'Bwd Packet Length Min', 'Bwd Packet Length Mean',\n",
       "       'Bwd Packet Length Std', 'Flow Bytes/s', 'Flow Packets/s',\n",
       "       'Flow IAT Mean', 'Flow IAT Std', 'Flow IAT Max', 'Flow IAT Min',\n",
       "       'Fwd IAT Total', 'Fwd IAT Mean', 'Fwd IAT Std', 'Fwd IAT Max',\n",
       "       'Fwd IAT Min', 'Bwd IAT Total', 'Bwd IAT Mean', 'Bwd IAT Std',\n",
       "       'Bwd IAT Max', 'Bwd IAT Min', 'Fwd PSH Flags', 'Bwd PSH Flags',\n",
       "       'Fwd URG Flags', 'Bwd URG Flags', 'Fwd Header Length',\n",
       "       'Bwd Header Length', 'Fwd Packets/s', 'Bwd Packets/s',\n",
       "       'Min Packet Length', 'Max Packet Length', 'Packet Length Mean',\n",
       "       'Packet Length Std', 'Packet Length Variance', 'FIN Flag Count',\n",
       "       'SYN Flag Count', 'RST Flag Count', 'PSH Flag Count', 'ACK Flag Count',\n",
       "       'URG Flag Count', 'CWE Flag Count', 'ECE Flag Count', 'Down/Up Ratio',\n",
       "       'Average Packet Size', 'Avg Fwd Segment Size', 'Avg Bwd Segment Size',\n",
       "       'Fwd Header Length_duplicated_0', 'Fwd Avg Bytes/Bulk',\n",
       "       'Fwd Avg Packets/Bulk', 'Fwd Avg Bulk Rate', 'Bwd Avg Bytes/Bulk',\n",
       "       'Bwd Avg Packets/Bulk', 'Bwd Avg Bulk Rate', 'Subflow Fwd Packets',\n",
       "       'Subflow Fwd Bytes', 'Subflow Bwd Packets', 'Subflow Bwd Bytes',\n",
       "       'Init_Win_bytes_forward', 'Init_Win_bytes_backward', 'act_data_pkt_fwd',\n",
       "       'min_seg_size_forward', 'Active Mean', 'Active Std', 'Active Max',\n",
       "       'Active Min', 'Idle Mean', 'Idle Std', 'Idle Max', 'Idle Min', 'Label'],\n",
       "      dtype='object')"
      ]
     },
     "execution_count": 10,
     "metadata": {},
     "output_type": "execute_result"
    }
   ],
   "source": [
    "df.columns"
   ]
  },
  {
   "cell_type": "markdown",
   "id": "6412d81b",
   "metadata": {},
   "source": [
    "* Checking for null values"
   ]
  },
  {
   "cell_type": "code",
   "execution_count": null,
   "id": "1efbfc59-e4ba-405b-a08b-a0a4cb75fec6",
   "metadata": {},
   "outputs": [
    {
     "data": {
      "text/plain": [
       "Destination Port                  0\n",
       "Flow Duration                     0\n",
       "Total Fwd Packets                 0\n",
       "Total Backward Packets            0\n",
       "Total Length of Fwd Packets       0\n",
       "                               ... \n",
       "Idle Mean                       777\n",
       "Idle Std                       2255\n",
       "Idle Max                          1\n",
       "Idle Min                          1\n",
       "Label                             1\n",
       "Length: 79, dtype: int64"
      ]
     },
     "execution_count": 11,
     "metadata": {},
     "output_type": "execute_result"
    }
   ],
   "source": [
    "df.isnull().sum()"
   ]
  },
  {
   "cell_type": "markdown",
   "id": "f275664c",
   "metadata": {},
   "source": [
    "* Removing all the null values"
   ]
  },
  {
   "cell_type": "code",
   "execution_count": null,
   "id": "76571adb-1c5d-4284-8c96-5393fb900a35",
   "metadata": {},
   "outputs": [],
   "source": [
    "df.dropna(inplace=True)"
   ]
  },
  {
   "cell_type": "code",
   "execution_count": null,
   "id": "4a9aa432-cb63-46ca-8752-0cfa48d7c980",
   "metadata": {},
   "outputs": [
    {
     "data": {
      "text/plain": [
       "Destination Port               0\n",
       "Flow Duration                  0\n",
       "Total Fwd Packets              0\n",
       "Total Backward Packets         0\n",
       "Total Length of Fwd Packets    0\n",
       "                              ..\n",
       "Idle Mean                      0\n",
       "Idle Std                       0\n",
       "Idle Max                       0\n",
       "Idle Min                       0\n",
       "Label                          0\n",
       "Length: 79, dtype: int64"
      ]
     },
     "execution_count": 13,
     "metadata": {},
     "output_type": "execute_result"
    }
   ],
   "source": [
    "df.isnull().sum()"
   ]
  },
  {
   "cell_type": "markdown",
   "id": "80b3027a",
   "metadata": {},
   "source": [
    "* As Label is our Target Value, so Checking for unique values in Label column"
   ]
  },
  {
   "cell_type": "code",
   "execution_count": null,
   "id": "d9ee5e84-f923-4d1e-a32c-e4b72f73ec08",
   "metadata": {},
   "outputs": [
    {
     "data": {
      "text/plain": [
       "array(['BENIGN', 'DDoS'], dtype=object)"
      ]
     },
     "execution_count": 14,
     "metadata": {},
     "output_type": "execute_result"
    }
   ],
   "source": [
    "df.loc[:,'Label'].unique()"
   ]
  },
  {
   "cell_type": "markdown",
   "id": "bbeb2abb",
   "metadata": {},
   "source": [
    "* Encoding categorial/object into numberical so that it'll be easy for machine to predict"
   ]
  },
  {
   "cell_type": "code",
   "execution_count": null,
   "id": "8b971731-db2e-4721-8876-b4d9d973b8cb",
   "metadata": {},
   "outputs": [],
   "source": [
    "le= LabelEncoder()"
   ]
  },
  {
   "cell_type": "code",
   "execution_count": null,
   "id": "29a8ee15-4958-4352-af58-995357d16c08",
   "metadata": {},
   "outputs": [],
   "source": [
    "df['Label']= le.fit_transform(df['Label'])"
   ]
  },
  {
   "cell_type": "markdown",
   "id": "c166b543",
   "metadata": {},
   "source": [
    "* 0:BENIGN & 1:DDoS"
   ]
  },
  {
   "cell_type": "code",
   "execution_count": null,
   "id": "d3977a9d-ccf7-4b75-a429-87d7254617a7",
   "metadata": {},
   "outputs": [
    {
     "data": {
      "text/plain": [
       "array([0, 1])"
      ]
     },
     "execution_count": 17,
     "metadata": {},
     "output_type": "execute_result"
    }
   ],
   "source": [
    "df['Label'].unique()"
   ]
  },
  {
   "cell_type": "code",
   "execution_count": null,
   "id": "5c27aa51-a69e-4252-8444-6b35c8f93e16",
   "metadata": {},
   "outputs": [
    {
     "data": {
      "text/html": [
       "<div>\n",
       "<style scoped>\n",
       "    .dataframe tbody tr th:only-of-type {\n",
       "        vertical-align: middle;\n",
       "    }\n",
       "\n",
       "    .dataframe tbody tr th {\n",
       "        vertical-align: top;\n",
       "    }\n",
       "\n",
       "    .dataframe thead th {\n",
       "        text-align: right;\n",
       "    }\n",
       "</style>\n",
       "<table border=\"1\" class=\"dataframe\">\n",
       "  <thead>\n",
       "    <tr style=\"text-align: right;\">\n",
       "      <th></th>\n",
       "      <th>Destination Port</th>\n",
       "      <th>Flow Duration</th>\n",
       "      <th>Total Fwd Packets</th>\n",
       "      <th>Total Backward Packets</th>\n",
       "      <th>Total Length of Fwd Packets</th>\n",
       "      <th>Total Length of Bwd Packets</th>\n",
       "      <th>Fwd Packet Length Max</th>\n",
       "      <th>Fwd Packet Length Min</th>\n",
       "      <th>Fwd Packet Length Mean</th>\n",
       "      <th>Fwd Packet Length Std</th>\n",
       "      <th>...</th>\n",
       "      <th>min_seg_size_forward</th>\n",
       "      <th>Active Mean</th>\n",
       "      <th>Active Std</th>\n",
       "      <th>Active Max</th>\n",
       "      <th>Active Min</th>\n",
       "      <th>Idle Mean</th>\n",
       "      <th>Idle Std</th>\n",
       "      <th>Idle Max</th>\n",
       "      <th>Idle Min</th>\n",
       "      <th>Label</th>\n",
       "    </tr>\n",
       "  </thead>\n",
       "  <tbody>\n",
       "    <tr>\n",
       "      <th>0</th>\n",
       "      <td>54865</td>\n",
       "      <td>3</td>\n",
       "      <td>2</td>\n",
       "      <td>0</td>\n",
       "      <td>12</td>\n",
       "      <td>0</td>\n",
       "      <td>6</td>\n",
       "      <td>6</td>\n",
       "      <td>6.0</td>\n",
       "      <td>0.0</td>\n",
       "      <td>...</td>\n",
       "      <td>20.0</td>\n",
       "      <td>0.0</td>\n",
       "      <td>0.0</td>\n",
       "      <td>0.0</td>\n",
       "      <td>0.0</td>\n",
       "      <td>0.0</td>\n",
       "      <td>0.0</td>\n",
       "      <td>0.0</td>\n",
       "      <td>0.0</td>\n",
       "      <td>0</td>\n",
       "    </tr>\n",
       "    <tr>\n",
       "      <th>1</th>\n",
       "      <td>55054</td>\n",
       "      <td>109</td>\n",
       "      <td>1</td>\n",
       "      <td>1</td>\n",
       "      <td>6</td>\n",
       "      <td>6</td>\n",
       "      <td>6</td>\n",
       "      <td>6</td>\n",
       "      <td>6.0</td>\n",
       "      <td>0.0</td>\n",
       "      <td>...</td>\n",
       "      <td>20.0</td>\n",
       "      <td>0.0</td>\n",
       "      <td>0.0</td>\n",
       "      <td>0.0</td>\n",
       "      <td>0.0</td>\n",
       "      <td>0.0</td>\n",
       "      <td>0.0</td>\n",
       "      <td>0.0</td>\n",
       "      <td>0.0</td>\n",
       "      <td>0</td>\n",
       "    </tr>\n",
       "    <tr>\n",
       "      <th>2</th>\n",
       "      <td>55055</td>\n",
       "      <td>52</td>\n",
       "      <td>1</td>\n",
       "      <td>1</td>\n",
       "      <td>6</td>\n",
       "      <td>6</td>\n",
       "      <td>6</td>\n",
       "      <td>6</td>\n",
       "      <td>6.0</td>\n",
       "      <td>0.0</td>\n",
       "      <td>...</td>\n",
       "      <td>20.0</td>\n",
       "      <td>0.0</td>\n",
       "      <td>0.0</td>\n",
       "      <td>0.0</td>\n",
       "      <td>0.0</td>\n",
       "      <td>0.0</td>\n",
       "      <td>0.0</td>\n",
       "      <td>0.0</td>\n",
       "      <td>0.0</td>\n",
       "      <td>0</td>\n",
       "    </tr>\n",
       "  </tbody>\n",
       "</table>\n",
       "<p>3 rows × 79 columns</p>\n",
       "</div>"
      ],
      "text/plain": [
       "   Destination Port  Flow Duration  Total Fwd Packets  Total Backward Packets  \\\n",
       "0             54865              3                  2                       0   \n",
       "1             55054            109                  1                       1   \n",
       "2             55055             52                  1                       1   \n",
       "\n",
       "   Total Length of Fwd Packets  Total Length of Bwd Packets  \\\n",
       "0                           12                            0   \n",
       "1                            6                            6   \n",
       "2                            6                            6   \n",
       "\n",
       "   Fwd Packet Length Max  Fwd Packet Length Min  Fwd Packet Length Mean  \\\n",
       "0                      6                      6                     6.0   \n",
       "1                      6                      6                     6.0   \n",
       "2                      6                      6                     6.0   \n",
       "\n",
       "   Fwd Packet Length Std  ...  min_seg_size_forward  Active Mean  Active Std  \\\n",
       "0                    0.0  ...                  20.0          0.0         0.0   \n",
       "1                    0.0  ...                  20.0          0.0         0.0   \n",
       "2                    0.0  ...                  20.0          0.0         0.0   \n",
       "\n",
       "   Active Max  Active Min  Idle Mean  Idle Std  Idle Max  Idle Min  Label  \n",
       "0         0.0         0.0        0.0       0.0       0.0       0.0      0  \n",
       "1         0.0         0.0        0.0       0.0       0.0       0.0      0  \n",
       "2         0.0         0.0        0.0       0.0       0.0       0.0      0  \n",
       "\n",
       "[3 rows x 79 columns]"
      ]
     },
     "execution_count": 18,
     "metadata": {},
     "output_type": "execute_result"
    }
   ],
   "source": [
    "df.head(3)"
   ]
  },
  {
   "cell_type": "markdown",
   "id": "c66962b4",
   "metadata": {},
   "source": [
    "* Plotting SNS countplot to check number of O and 1 in the dataset (To check if the dataset is balanced or imbalanced)"
   ]
  },
  {
   "cell_type": "code",
   "execution_count": null,
   "id": "6301cfa7-9b17-4540-8195-c214ae2ec04b",
   "metadata": {},
   "outputs": [
    {
     "name": "stdout",
     "output_type": "stream",
     "text": [
      "Counter({1: 34952, 0: 28982})\n"
     ]
    },
    {
     "data": {
      "image/png": "[encoded data removed]",
      "text/plain": [
       "<Figure size 640x480 with 1 Axes>"
      ]
     },
     "metadata": {},
     "output_type": "display_data"
    }
   ],
   "source": [
    "sns.countplot(x='Label',data=df)\n",
    "counter=Counter(df['Label'])\n",
    "print(counter)"
   ]
  },
  {
   "cell_type": "markdown",
   "id": "9e5689b0",
   "metadata": {},
   "source": [
    "* Replacing all inf values will NaN"
   ]
  },
  {
   "cell_type": "code",
   "execution_count": null,
   "id": "5d15bc89-1548-454f-a256-7699b28a575f",
   "metadata": {},
   "outputs": [
    {
     "data": {
      "text/html": [
       "<div>\n",
       "<style scoped>\n",
       "    .dataframe tbody tr th:only-of-type {\n",
       "        vertical-align: middle;\n",
       "    }\n",
       "\n",
       "    .dataframe tbody tr th {\n",
       "        vertical-align: top;\n",
       "    }\n",
       "\n",
       "    .dataframe thead th {\n",
       "        text-align: right;\n",
       "    }\n",
       "</style>\n",
       "<table border=\"1\" class=\"dataframe\">\n",
       "  <thead>\n",
       "    <tr style=\"text-align: right;\">\n",
       "      <th></th>\n",
       "      <th>Destination Port</th>\n",
       "      <th>Flow Duration</th>\n",
       "      <th>Total Fwd Packets</th>\n",
       "      <th>Total Backward Packets</th>\n",
       "      <th>Total Length of Fwd Packets</th>\n",
       "      <th>Total Length of Bwd Packets</th>\n",
       "      <th>Fwd Packet Length Max</th>\n",
       "      <th>Fwd Packet Length Min</th>\n",
       "      <th>Fwd Packet Length Mean</th>\n",
       "      <th>Fwd Packet Length Std</th>\n",
       "      <th>...</th>\n",
       "      <th>min_seg_size_forward</th>\n",
       "      <th>Active Mean</th>\n",
       "      <th>Active Std</th>\n",
       "      <th>Active Max</th>\n",
       "      <th>Active Min</th>\n",
       "      <th>Idle Mean</th>\n",
       "      <th>Idle Std</th>\n",
       "      <th>Idle Max</th>\n",
       "      <th>Idle Min</th>\n",
       "      <th>Label</th>\n",
       "    </tr>\n",
       "  </thead>\n",
       "  <tbody>\n",
       "    <tr>\n",
       "      <th>0</th>\n",
       "      <td>54865</td>\n",
       "      <td>3</td>\n",
       "      <td>2</td>\n",
       "      <td>0</td>\n",
       "      <td>12</td>\n",
       "      <td>0</td>\n",
       "      <td>6</td>\n",
       "      <td>6</td>\n",
       "      <td>6.000000</td>\n",
       "      <td>0.000000</td>\n",
       "      <td>...</td>\n",
       "      <td>20.0</td>\n",
       "      <td>0.0</td>\n",
       "      <td>0.0</td>\n",
       "      <td>0.0</td>\n",
       "      <td>0.0</td>\n",
       "      <td>0.0</td>\n",
       "      <td>0.0</td>\n",
       "      <td>0.0</td>\n",
       "      <td>0.0</td>\n",
       "      <td>0</td>\n",
       "    </tr>\n",
       "    <tr>\n",
       "      <th>1</th>\n",
       "      <td>55054</td>\n",
       "      <td>109</td>\n",
       "      <td>1</td>\n",
       "      <td>1</td>\n",
       "      <td>6</td>\n",
       "      <td>6</td>\n",
       "      <td>6</td>\n",
       "      <td>6</td>\n",
       "      <td>6.000000</td>\n",
       "      <td>0.000000</td>\n",
       "      <td>...</td>\n",
       "      <td>20.0</td>\n",
       "      <td>0.0</td>\n",
       "      <td>0.0</td>\n",
       "      <td>0.0</td>\n",
       "      <td>0.0</td>\n",
       "      <td>0.0</td>\n",
       "      <td>0.0</td>\n",
       "      <td>0.0</td>\n",
       "      <td>0.0</td>\n",
       "      <td>0</td>\n",
       "    </tr>\n",
       "    <tr>\n",
       "      <th>2</th>\n",
       "      <td>55055</td>\n",
       "      <td>52</td>\n",
       "      <td>1</td>\n",
       "      <td>1</td>\n",
       "      <td>6</td>\n",
       "      <td>6</td>\n",
       "      <td>6</td>\n",
       "      <td>6</td>\n",
       "      <td>6.000000</td>\n",
       "      <td>0.000000</td>\n",
       "      <td>...</td>\n",
       "      <td>20.0</td>\n",
       "      <td>0.0</td>\n",
       "      <td>0.0</td>\n",
       "      <td>0.0</td>\n",
       "      <td>0.0</td>\n",
       "      <td>0.0</td>\n",
       "      <td>0.0</td>\n",
       "      <td>0.0</td>\n",
       "      <td>0.0</td>\n",
       "      <td>0</td>\n",
       "    </tr>\n",
       "    <tr>\n",
       "      <th>3</th>\n",
       "      <td>46236</td>\n",
       "      <td>34</td>\n",
       "      <td>1</td>\n",
       "      <td>1</td>\n",
       "      <td>6</td>\n",
       "      <td>6</td>\n",
       "      <td>6</td>\n",
       "      <td>6</td>\n",
       "      <td>6.000000</td>\n",
       "      <td>0.000000</td>\n",
       "      <td>...</td>\n",
       "      <td>20.0</td>\n",
       "      <td>0.0</td>\n",
       "      <td>0.0</td>\n",
       "      <td>0.0</td>\n",
       "      <td>0.0</td>\n",
       "      <td>0.0</td>\n",
       "      <td>0.0</td>\n",
       "      <td>0.0</td>\n",
       "      <td>0.0</td>\n",
       "      <td>0</td>\n",
       "    </tr>\n",
       "    <tr>\n",
       "      <th>4</th>\n",
       "      <td>54863</td>\n",
       "      <td>3</td>\n",
       "      <td>2</td>\n",
       "      <td>0</td>\n",
       "      <td>12</td>\n",
       "      <td>0</td>\n",
       "      <td>6</td>\n",
       "      <td>6</td>\n",
       "      <td>6.000000</td>\n",
       "      <td>0.000000</td>\n",
       "      <td>...</td>\n",
       "      <td>20.0</td>\n",
       "      <td>0.0</td>\n",
       "      <td>0.0</td>\n",
       "      <td>0.0</td>\n",
       "      <td>0.0</td>\n",
       "      <td>0.0</td>\n",
       "      <td>0.0</td>\n",
       "      <td>0.0</td>\n",
       "      <td>0.0</td>\n",
       "      <td>0</td>\n",
       "    </tr>\n",
       "    <tr>\n",
       "      <th>...</th>\n",
       "      <td>...</td>\n",
       "      <td>...</td>\n",
       "      <td>...</td>\n",
       "      <td>...</td>\n",
       "      <td>...</td>\n",
       "      <td>...</td>\n",
       "      <td>...</td>\n",
       "      <td>...</td>\n",
       "      <td>...</td>\n",
       "      <td>...</td>\n",
       "      <td>...</td>\n",
       "      <td>...</td>\n",
       "      <td>...</td>\n",
       "      <td>...</td>\n",
       "      <td>...</td>\n",
       "      <td>...</td>\n",
       "      <td>...</td>\n",
       "      <td>...</td>\n",
       "      <td>...</td>\n",
       "      <td>...</td>\n",
       "      <td>...</td>\n",
       "    </tr>\n",
       "    <tr>\n",
       "      <th>66231</th>\n",
       "      <td>80</td>\n",
       "      <td>78317142</td>\n",
       "      <td>8</td>\n",
       "      <td>5</td>\n",
       "      <td>56</td>\n",
       "      <td>11607</td>\n",
       "      <td>20</td>\n",
       "      <td>0</td>\n",
       "      <td>7.000000</td>\n",
       "      <td>5.656854</td>\n",
       "      <td>...</td>\n",
       "      <td>20.0</td>\n",
       "      <td>15996.0</td>\n",
       "      <td>0.0</td>\n",
       "      <td>15996.0</td>\n",
       "      <td>15996.0</td>\n",
       "      <td>78200000.0</td>\n",
       "      <td>0.0</td>\n",
       "      <td>78200000.0</td>\n",
       "      <td>78200000.0</td>\n",
       "      <td>1</td>\n",
       "    </tr>\n",
       "    <tr>\n",
       "      <th>66232</th>\n",
       "      <td>80</td>\n",
       "      <td>48778</td>\n",
       "      <td>3</td>\n",
       "      <td>7</td>\n",
       "      <td>26</td>\n",
       "      <td>11601</td>\n",
       "      <td>20</td>\n",
       "      <td>0</td>\n",
       "      <td>8.666667</td>\n",
       "      <td>10.263203</td>\n",
       "      <td>...</td>\n",
       "      <td>20.0</td>\n",
       "      <td>0.0</td>\n",
       "      <td>0.0</td>\n",
       "      <td>0.0</td>\n",
       "      <td>0.0</td>\n",
       "      <td>0.0</td>\n",
       "      <td>0.0</td>\n",
       "      <td>0.0</td>\n",
       "      <td>0.0</td>\n",
       "      <td>1</td>\n",
       "    </tr>\n",
       "    <tr>\n",
       "      <th>66233</th>\n",
       "      <td>80</td>\n",
       "      <td>78359838</td>\n",
       "      <td>8</td>\n",
       "      <td>6</td>\n",
       "      <td>56</td>\n",
       "      <td>11601</td>\n",
       "      <td>20</td>\n",
       "      <td>0</td>\n",
       "      <td>7.000000</td>\n",
       "      <td>5.656854</td>\n",
       "      <td>...</td>\n",
       "      <td>20.0</td>\n",
       "      <td>30018.0</td>\n",
       "      <td>0.0</td>\n",
       "      <td>30018.0</td>\n",
       "      <td>30018.0</td>\n",
       "      <td>78300000.0</td>\n",
       "      <td>0.0</td>\n",
       "      <td>78300000.0</td>\n",
       "      <td>78300000.0</td>\n",
       "      <td>1</td>\n",
       "    </tr>\n",
       "    <tr>\n",
       "      <th>66234</th>\n",
       "      <td>80</td>\n",
       "      <td>50518</td>\n",
       "      <td>3</td>\n",
       "      <td>6</td>\n",
       "      <td>26</td>\n",
       "      <td>11601</td>\n",
       "      <td>20</td>\n",
       "      <td>0</td>\n",
       "      <td>8.666667</td>\n",
       "      <td>10.263203</td>\n",
       "      <td>...</td>\n",
       "      <td>20.0</td>\n",
       "      <td>0.0</td>\n",
       "      <td>0.0</td>\n",
       "      <td>0.0</td>\n",
       "      <td>0.0</td>\n",
       "      <td>0.0</td>\n",
       "      <td>0.0</td>\n",
       "      <td>0.0</td>\n",
       "      <td>0.0</td>\n",
       "      <td>1</td>\n",
       "    </tr>\n",
       "    <tr>\n",
       "      <th>66235</th>\n",
       "      <td>80</td>\n",
       "      <td>78336816</td>\n",
       "      <td>8</td>\n",
       "      <td>6</td>\n",
       "      <td>56</td>\n",
       "      <td>11601</td>\n",
       "      <td>20</td>\n",
       "      <td>0</td>\n",
       "      <td>7.000000</td>\n",
       "      <td>5.656854</td>\n",
       "      <td>...</td>\n",
       "      <td>20.0</td>\n",
       "      <td>22026.0</td>\n",
       "      <td>0.0</td>\n",
       "      <td>22026.0</td>\n",
       "      <td>22026.0</td>\n",
       "      <td>78300000.0</td>\n",
       "      <td>0.0</td>\n",
       "      <td>78300000.0</td>\n",
       "      <td>78300000.0</td>\n",
       "      <td>1</td>\n",
       "    </tr>\n",
       "  </tbody>\n",
       "</table>\n",
       "<p>63934 rows × 79 columns</p>\n",
       "</div>"
      ],
      "text/plain": [
       "       Destination Port  Flow Duration  Total Fwd Packets  \\\n",
       "0                 54865              3                  2   \n",
       "1                 55054            109                  1   \n",
       "2                 55055             52                  1   \n",
       "3                 46236             34                  1   \n",
       "4                 54863              3                  2   \n",
       "...                 ...            ...                ...   \n",
       "66231                80       78317142                  8   \n",
       "66232                80          48778                  3   \n",
       "66233                80       78359838                  8   \n",
       "66234                80          50518                  3   \n",
       "66235                80       78336816                  8   \n",
       "\n",
       "       Total Backward Packets  Total Length of Fwd Packets  \\\n",
       "0                           0                           12   \n",
       "1                           1                            6   \n",
       "2                           1                            6   \n",
       "3                           1                            6   \n",
       "4                           0                           12   \n",
       "...                       ...                          ...   \n",
       "66231                       5                           56   \n",
       "66232                       7                           26   \n",
       "66233                       6                           56   \n",
       "66234                       6                           26   \n",
       "66235                       6                           56   \n",
       "\n",
       "       Total Length of Bwd Packets  Fwd Packet Length Max  \\\n",
       "0                                0                      6   \n",
       "1                                6                      6   \n",
       "2                                6                      6   \n",
       "3                                6                      6   \n",
       "4                                0                      6   \n",
       "...                            ...                    ...   \n",
       "66231                        11607                     20   \n",
       "66232                        11601                     20   \n",
       "66233                        11601                     20   \n",
       "66234                        11601                     20   \n",
       "66235                        11601                     20   \n",
       "\n",
       "       Fwd Packet Length Min  Fwd Packet Length Mean  Fwd Packet Length Std  \\\n",
       "0                          6                6.000000               0.000000   \n",
       "1                          6                6.000000               0.000000   \n",
       "2                          6                6.000000               0.000000   \n",
       "3                          6                6.000000               0.000000   \n",
       "4                          6                6.000000               0.000000   \n",
       "...                      ...                     ...                    ...   \n",
       "66231                      0                7.000000               5.656854   \n",
       "66232                      0                8.666667              10.263203   \n",
       "66233                      0                7.000000               5.656854   \n",
       "66234                      0                8.666667              10.263203   \n",
       "66235                      0                7.000000               5.656854   \n",
       "\n",
       "       ...  min_seg_size_forward  Active Mean  Active Std  Active Max  \\\n",
       "0      ...                  20.0          0.0         0.0         0.0   \n",
       "1      ...                  20.0          0.0         0.0         0.0   \n",
       "2      ...                  20.0          0.0         0.0         0.0   \n",
       "3      ...                  20.0          0.0         0.0         0.0   \n",
       "4      ...                  20.0          0.0         0.0         0.0   \n",
       "...    ...                   ...          ...         ...         ...   \n",
       "66231  ...                  20.0      15996.0         0.0     15996.0   \n",
       "66232  ...                  20.0          0.0         0.0         0.0   \n",
       "66233  ...                  20.0      30018.0         0.0     30018.0   \n",
       "66234  ...                  20.0          0.0         0.0         0.0   \n",
       "66235  ...                  20.0      22026.0         0.0     22026.0   \n",
       "\n",
       "       Active Min   Idle Mean  Idle Std    Idle Max    Idle Min  Label  \n",
       "0             0.0         0.0       0.0         0.0         0.0      0  \n",
       "1             0.0         0.0       0.0         0.0         0.0      0  \n",
       "2             0.0         0.0       0.0         0.0         0.0      0  \n",
       "3             0.0         0.0       0.0         0.0         0.0      0  \n",
       "4             0.0         0.0       0.0         0.0         0.0      0  \n",
       "...           ...         ...       ...         ...         ...    ...  \n",
       "66231     15996.0  78200000.0       0.0  78200000.0  78200000.0      1  \n",
       "66232         0.0         0.0       0.0         0.0         0.0      1  \n",
       "66233     30018.0  78300000.0       0.0  78300000.0  78300000.0      1  \n",
       "66234         0.0         0.0       0.0         0.0         0.0      1  \n",
       "66235     22026.0  78300000.0       0.0  78300000.0  78300000.0      1  \n",
       "\n",
       "[63934 rows x 79 columns]"
      ]
     },
     "execution_count": 20,
     "metadata": {},
     "output_type": "execute_result"
    }
   ],
   "source": [
    "df.replace(np.inf, np.nan)"
   ]
  },
  {
   "cell_type": "code",
   "execution_count": null,
   "id": "043d6d8f-8a21-4bc8-a2f2-93c160e4337c",
   "metadata": {},
   "outputs": [],
   "source": [
    "df.dropna(inplace=True)"
   ]
  },
  {
   "cell_type": "code",
   "execution_count": null,
   "id": "1aa65302-cdcf-4edd-88b7-ef5cc018e2ec",
   "metadata": {},
   "outputs": [],
   "source": [
    "X=df.iloc[:,:-1]"
   ]
  },
  {
   "cell_type": "code",
   "execution_count": null,
   "id": "e7a45324-08f6-4fac-8042-e8130ce0e885",
   "metadata": {},
   "outputs": [],
   "source": [
    "Y= df.iloc[:,-1]"
   ]
  },
  {
   "cell_type": "markdown",
   "id": "2c201535",
   "metadata": {},
   "source": [
    "## Splitting Data"
   ]
  },
  {
   "cell_type": "code",
   "execution_count": null,
   "id": "394ee777-e551-4449-8492-2e52b441dcd4",
   "metadata": {},
   "outputs": [],
   "source": [
    "x_train,x_test,y_train,y_test=train_test_split(X,Y,test_size=0.30,random_state=42)"
   ]
  },
  {
   "cell_type": "markdown",
   "id": "445dfd89",
   "metadata": {},
   "source": [
    "* Checking if there is any inf or NaN in x_train"
   ]
  },
  {
   "cell_type": "code",
   "execution_count": null,
   "id": "4f1c1072-af67-4e84-b3f3-024fd6d2c1bc",
   "metadata": {},
   "outputs": [
    {
     "name": "stdout",
     "output_type": "stream",
     "text": [
      "False\n",
      "False\n"
     ]
    }
   ],
   "source": [
    "print(np.any(np.isinf(x_train)))\n",
    "print(np.any(np.isnan(x_train)))"
   ]
  },
  {
   "cell_type": "markdown",
   "id": "78ef1284",
   "metadata": {},
   "source": [
    "* Scaling the x_train "
   ]
  },
  {
   "cell_type": "code",
   "execution_count": null,
   "id": "0b275767-b3f5-4e4e-9daa-6926dc506bfb",
   "metadata": {},
   "outputs": [],
   "source": [
    "sc= StandardScaler()"
   ]
  },
  {
   "cell_type": "code",
   "execution_count": null,
   "id": "839d8bb0-c274-4c3f-a2a8-776963fdd13d",
   "metadata": {},
   "outputs": [],
   "source": [
    "x_train=sc.fit_transform(x_train)"
   ]
  },
  {
   "cell_type": "markdown",
   "id": "78d160e1",
   "metadata": {},
   "source": [
    "* Checking if there is any inf or NaN in x_test"
   ]
  },
  {
   "cell_type": "code",
   "execution_count": null,
   "id": "cbf0fbe2-d473-4c62-96e5-008f7da2bcdd",
   "metadata": {},
   "outputs": [
    {
     "name": "stdout",
     "output_type": "stream",
     "text": [
      "False\n",
      "False\n"
     ]
    }
   ],
   "source": [
    "print(np.any(np.isinf(x_test)))\n",
    "print(np.any(np.isnan(x_test)))"
   ]
  },
  {
   "cell_type": "markdown",
   "id": "6c1c64b9",
   "metadata": {},
   "source": [
    "* Scaling the x_test"
   ]
  },
  {
   "cell_type": "code",
   "execution_count": null,
   "id": "4abc838f-63fa-4c26-9f7b-f5fa8f3b2900",
   "metadata": {},
   "outputs": [],
   "source": [
    "x_test= sc.fit_transform(x_test)"
   ]
  },
  {
   "cell_type": "markdown",
   "id": "7fb0c6a9",
   "metadata": {},
   "source": [
    "## Model Training"
   ]
  },
  {
   "cell_type": "markdown",
   "id": "846e036c",
   "metadata": {},
   "source": [
    "* Random Forest"
   ]
  },
  {
   "cell_type": "code",
   "execution_count": null,
   "id": "8b5044d6-6e20-4aed-9331-6e9ae20c5540",
   "metadata": {},
   "outputs": [],
   "source": [
    "rf_model = RandomForestClassifier(n_estimators=50, random_state=42)\n",
    "rf_model.fit(x_train, y_train)\n",
    "rf_pred = rf_model.predict(x_test)"
   ]
  },
  {
   "cell_type": "markdown",
   "id": "d412413f",
   "metadata": {},
   "source": [
    "* Checking all the feature that contribute "
   ]
  },
  {
   "cell_type": "code",
   "execution_count": null,
   "id": "812efc76-ffd2-460f-aa9d-9555479943fb",
   "metadata": {},
   "outputs": [],
   "source": [
    "importances = rf_model.feature_importances_"
   ]
  },
  {
   "cell_type": "code",
   "execution_count": null,
   "id": "ec2a7598-bfd5-497c-a38c-e0cc61f234df",
   "metadata": {},
   "outputs": [],
   "source": [
    "indices = sorted(range(len(importances)), key=lambda i: importances[i], reverse=False)"
   ]
  },
  {
   "cell_type": "code",
   "execution_count": null,
   "id": "9a5e07e4-08ce-46ef-b5a1-0d41789f04e8",
   "metadata": {},
   "outputs": [],
   "source": [
    "feature_names = [f\"Features {i}\" for i in indices]"
   ]
  },
  {
   "cell_type": "code",
   "execution_count": null,
   "id": "da98dbf0-e68a-4be7-86e9-c62bdbe08161",
   "metadata": {},
   "outputs": [
    {
     "data": {
      "image/png": "[encoded data removed]",
      "text/plain": [
       "<Figure size 800x1400 with 1 Axes>"
      ]
     },
     "metadata": {},
     "output_type": "display_data"
    }
   ],
   "source": [
    "plt.figure(figsize=(8, 14))\n",
    "plt.barh(range(x_train.shape[1]), importances[indices], align=\"center\")\n",
    "plt.yticks(range(x_train.shape[1]), feature_names)\n",
    "plt.xlabel(\"Importance\")\n",
    "plt.title(\"Feature Importances\")\n",
    "plt.show()"
   ]
  },
  {
   "cell_type": "markdown",
   "id": "36827d4c",
   "metadata": {},
   "source": [
    "* Confusion Matrix"
   ]
  },
  {
   "cell_type": "code",
   "execution_count": null,
   "id": "6ad023bc-0c9e-40d4-a73c-bafaac2b9aa1",
   "metadata": {},
   "outputs": [],
   "source": [
    "def plot_confusion_matrix(y_true, y_pred, classes, title):\n",
    "    cm = confusion_matrix(y_true, y_pred)\n",
    "    print(cm)"
   ]
  },
  {
   "cell_type": "markdown",
   "id": "121403a8",
   "metadata": {},
   "source": [
    "* Performance of Random Forest"
   ]
  },
  {
   "cell_type": "code",
   "execution_count": null,
   "id": "dff4b99e-aedd-485f-87d4-5b5be874ba24",
   "metadata": {},
   "outputs": [
    {
     "name": "stdout",
     "output_type": "stream",
     "text": [
      "\n",
      "Random Forest Metrics:\n",
      "Accuracy: 0.8361\n",
      "F1 Score: 0.8227\n",
      "Precision: 1.0000\n",
      "Recall: 0.6988\n"
     ]
    }
   ],
   "source": [
    "rf_accuracy = accuracy_score(y_test, rf_pred)\n",
    "rf_f1 = f1_score(y_test, rf_pred)\n",
    "rf_precision = precision_score(y_test, rf_pred)\n",
    "rf_recall = recall_score(y_test, rf_pred)\n",
    "\n",
    "print('\\nRandom Forest Metrics:')\n",
    "print(f'Accuracy: {rf_accuracy:.4f}')\n",
    "print(f'F1 Score: {rf_f1:.4f}')\n",
    "print(f'Precision: {rf_precision:.4f}')\n",
    "print(f'Recall: {rf_recall:.4f}')"
   ]
  },
  {
   "cell_type": "code",
   "execution_count": null,
   "id": "a0fda803-e9a5-4ea5-bef0-e4e69e17332b",
   "metadata": {
    "scrolled": true
   },
   "outputs": [
    {
     "name": "stdout",
     "output_type": "stream",
     "text": [
      "[[8743    0]\n",
      " [3144 7294]]\n"
     ]
    }
   ],
   "source": [
    "plot_confusion_matrix(y_test, rf_pred, ['Benign', 'DDoS'], 'Random Forest Confusion Matrix')"
   ]
  },
  {
   "cell_type": "markdown",
   "id": "d8966209",
   "metadata": {},
   "source": [
    "* Logistic Regression"
   ]
  },
  {
   "cell_type": "code",
   "execution_count": null,
   "id": "370928cf-9d1e-45ab-9077-be305b051d39",
   "metadata": {},
   "outputs": [
    {
     "name": "stderr",
     "output_type": "stream",
     "text": [
      "/opt/anaconda3/lib/python3.11/site-packages/sklearn/linear_model/_logistic.py:458: ConvergenceWarning: lbfgs failed to converge (status=1):\n",
      "STOP: TOTAL NO. of ITERATIONS REACHED LIMIT.\n",
      "\n",
      "Increase the number of iterations (max_iter) or scale the data as shown in:\n",
      "    https://scikit-learn.org/stable/modules/preprocessing.html\n",
      "Please also refer to the documentation for alternative solver options:\n",
      "    https://scikit-learn.org/stable/modules/linear_model.html#logistic-regression\n",
      "  n_iter_i = _check_optimize_result(\n"
     ]
    }
   ],
   "source": [
    "lr_model = LogisticRegression(random_state=42)\n",
    "lr_model.fit(x_train, y_train)\n",
    "lr_pred = lr_model.predict(x_test)"
   ]
  },
  {
   "cell_type": "markdown",
   "id": "fd701a2d",
   "metadata": {},
   "source": [
    "* Performance of logistic regression"
   ]
  },
  {
   "cell_type": "code",
   "execution_count": null,
   "id": "f3e1a3c6-c8a3-475e-99d4-4fcdcb317d66",
   "metadata": {},
   "outputs": [],
   "source": [
    "lr_accuracy = accuracy_score(y_test, lr_pred)\n",
    "lr_f1 = f1_score(y_test, lr_pred)\n",
    "lr_precision = precision_score(y_test, lr_pred)\n",
    "lr_recall = recall_score(y_test, lr_pred)"
   ]
  },
  {
   "cell_type": "code",
   "execution_count": null,
   "id": "a470bc7d-1e8e-47eb-a1e9-c7dc07e68dfc",
   "metadata": {},
   "outputs": [
    {
     "name": "stdout",
     "output_type": "stream",
     "text": [
      "\n",
      "Logistic Regression Metrics:\n",
      "Accuracy: 0.9953\n",
      "F1 Score: 0.9957\n",
      "Precision: 0.9923\n",
      "Recall: 0.9990\n"
     ]
    }
   ],
   "source": [
    "print('\\nLogistic Regression Metrics:')\n",
    "print(f'Accuracy: {lr_accuracy:.4f}')\n",
    "print(f'F1 Score: {lr_f1:.4f}')\n",
    "print(f'Precision: {lr_precision:.4f}')\n",
    "print(f'Recall: {lr_recall:.4f}')"
   ]
  },
  {
   "cell_type": "code",
   "execution_count": null,
   "id": "d8129658-67dd-473d-bc79-771cae235135",
   "metadata": {},
   "outputs": [
    {
     "name": "stdout",
     "output_type": "stream",
     "text": [
      "[[ 8662    81]\n",
      " [   10 10428]]\n"
     ]
    }
   ],
   "source": [
    "plot_confusion_matrix(y_test, lr_pred, ['Benign', 'DDoS'], 'Logistic Regression Confusion Matrix')"
   ]
  },
  {
   "cell_type": "markdown",
   "id": "5b3d8d67",
   "metadata": {},
   "source": [
    "## Data Modeling"
   ]
  },
  {
   "cell_type": "code",
   "execution_count": null,
   "id": "0e132e0f-ac2d-478c-bd4e-255896e83c21",
   "metadata": {},
   "outputs": [],
   "source": [
    "# Random Forest\n",
    "rf_proba = rf_model.predict_proba(x_test)\n",
    "\n",
    "# Logistic Regression\n",
    "lr_proba = lr_model.predict_proba(x_test)"
   ]
  },
  {
   "cell_type": "code",
   "execution_count": null,
   "id": "15951543-62c1-4db1-b386-bf4322a17a3b",
   "metadata": {},
   "outputs": [],
   "source": [
    "rf_fpr, rf_tpr, _ = roc_curve(y_test, rf_proba[:, 1])\n",
    "rf_auc = auc(rf_fpr, rf_tpr)\n",
    "\n",
    "# Calculate ROC curve for Logistic Regression\n",
    "lr_fpr, lr_tpr, _ = roc_curve(y_test, lr_proba[:, 1])\n",
    "lr_auc = auc(lr_fpr, lr_tpr)"
   ]
  },
  {
   "cell_type": "code",
   "execution_count": null,
   "id": "b17fd2ed-5bca-4ad7-b043-7f01c0aac411",
   "metadata": {},
   "outputs": [
    {
     "data": {
      "image/png": "[encoded data removed]",
      "text/plain": [
       "<Figure size 800x600 with 1 Axes>"
      ]
     },
     "metadata": {},
     "output_type": "display_data"
    }
   ],
   "source": [
    "plt.figure(figsize=(8, 6))\n",
    "plt.plot(rf_fpr, rf_tpr, label=f'Random Forest (AUC = {rf_auc:.2f})')\n",
    "plt.plot(lr_fpr, lr_tpr, label=f'Logistic Regression (AUC = {lr_auc:.2f})')\n",
    "plt.plot([0, 1], [0, 1], linestyle='--', color='black', label='Random Classifier (AUC = 0.50)')\n",
    "\n",
    "plt.xlabel('False Positive Rate')\n",
    "plt.ylabel('True Positive Rate')\n",
    "plt.title('Receiver Operating Characteristic (ROC) Curve')\n",
    "plt.legend()\n",
    "plt.grid()\n",
    "plt.show()"
   ]
  }
 ],
 "metadata": {
  "kernelspec": {
   "display_name": "Python 3 (ipykernel)",
   "language": "python",
   "name": "python3"
  },
  "language_info": {
   "codemirror_mode": {
    "name": "ipython",
    "version": 3
   },
   "file_extension": ".py",
   "mimetype": "text/x-python",
   "name": "python",
   "nbconvert_exporter": "python",
   "pygments_lexer": "ipython3",
   "version": "3.11.8"
  }
 },
 "nbformat": 4,
 "nbformat_minor": 5
}
